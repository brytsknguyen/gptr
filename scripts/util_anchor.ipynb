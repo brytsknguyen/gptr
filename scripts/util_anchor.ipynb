{
 "cells": [
  {
   "cell_type": "code",
   "execution_count": 67,
   "metadata": {},
   "outputs": [],
   "source": [
    "import glob\n",
    "import numpy as np\n",
    "import pandas as pd\n",
    "import csv\n",
    "\n",
    "anc_file = '/media/tmn/mySataSSD1/DATASETS/UTIL_DATASETS/dataset/flight-dataset/survey-results/anchor_const4_survey.txt'\n",
    "data = []\n",
    "\n",
    "# Open the CSV file\n",
    "with open(anc_file, mode='r') as file:\n",
    "    # Create a CSV reader object\n",
    "    csv_reader = csv.reader(file)\n",
    "    \n",
    "    # Iterate through the rows of the CSV file\n",
    "    for row in csv_reader:\n",
    "        # Append each row to the data list\n",
    "        data.append(row)\n",
    "\n",
    "# # Print the 2D list\n",
    "# for row in data:\n",
    "#     print(row)\n",
    "anc_count = int(len(data)/2)\n",
    "ancpos_df = pd.DataFrame(np.array(data[0:anc_count])[:, 1:], columns=['x',  'y',  'z'])\n",
    "ancrot_df = pd.DataFrame(np.array(data[anc_count:])[:, 1:],  columns=['qx', 'qy', 'qz', 'qw'])\n",
    "\n",
    "ancpose_df = pd.concat([ancpos_df, ancrot_df], axis=1)\n",
    "# print(\"Left Join:\\n\", ancpose_df)\n",
    "ancpose_df\n",
    "\n",
    "ancpose_df.to_csv('/media/tmn/mySataSSD1/DATASETS/UTIL_DATASETS/dataset/flight-dataset/survey-results/anchor_const4_pose.csv', sep=',', index=False)"
   ]
  }
 ],
 "metadata": {
  "kernelspec": {
   "display_name": "py3810",
   "language": "python",
   "name": "python3"
  },
  "language_info": {
   "codemirror_mode": {
    "name": "ipython",
    "version": 3
   },
   "file_extension": ".py",
   "mimetype": "text/x-python",
   "name": "python",
   "nbconvert_exporter": "python",
   "pygments_lexer": "ipython3",
   "version": "3.8.19"
  }
 },
 "nbformat": 4,
 "nbformat_minor": 2
}
